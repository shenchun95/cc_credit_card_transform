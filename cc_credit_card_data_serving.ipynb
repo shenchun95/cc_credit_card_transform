{
 "cells": [
  {
   "cell_type": "markdown",
   "id": "d71ab424",
   "metadata": {},
   "source": [
    "### this is a second script to transformed the data from curated zone to transformed zone\n",
    "<p>\n",
    "purpose of this is to further enrich the data before serving ie. to add more features (encrypt the data)\n",
    "<br>\n",
    "Data Analyst / Data Scientis should only take data from the transform zone to avoid any accidental leak of PII data\n",
    "<br>\n",
    "Remain the unencrypt data in curated zone for DataOps in the event of data dispute from downstream activity\n",
    "</p>"
   ]
  },
  {
   "cell_type": "code",
   "execution_count": 1,
   "id": "e9ac782a",
   "metadata": {},
   "outputs": [],
   "source": [
    "import pyspark\n",
    "from pyspark.sql import SparkSession\n",
    "\n",
    "from pyspark.sql.functions import col, lit  # common function\n",
    "from pyspark.sql.functions import year, current_date, col  # date function\n",
    "from pyspark.sql.functions import aes_encrypt, aes_decrypt, base64, unbase64 # encryption\n",
    "\n",
    "import os\n"
   ]
  },
  {
   "cell_type": "code",
   "execution_count": 2,
   "id": "5b407d5e",
   "metadata": {},
   "outputs": [],
   "source": [
    "conf = (\n",
    "    pyspark.SparkConf().setAppName('cc_credit_card_pii_encrpytion')\n",
    "    .set(\"spark.executor.memory\", \"16g\")\n",
    ")\n",
    "spark = SparkSession.builder.config(conf=conf).getOrCreate()"
   ]
  },
  {
   "cell_type": "code",
   "execution_count": null,
   "id": "0f4d2236",
   "metadata": {},
   "outputs": [],
   "source": [
    "df = spark.read.parquet(\"curated_cc_credit_card\\cc_credit_card_curated.parquet\")"
   ]
  },
  {
   "cell_type": "markdown",
   "id": "18521431",
   "metadata": {},
   "source": [
    "### Data encryption Process"
   ]
  },
  {
   "cell_type": "code",
   "execution_count": 4,
   "id": "b2fda82d",
   "metadata": {},
   "outputs": [
    {
     "name": "stdout",
     "output_type": "stream",
     "text": [
      "+----------+---------------------+----------------+--------------------+-----+--------+--------+--------------------+---------+-----+-----+-------+---------+--------+--------------------+----------+--------------------+------------------+-----------+--------+-------------+----------------------+--------------------+---------+-------------+------+\n",
      "|Unnamed: 0|trans_date_trans_time|          cc_num|            merchant|  amt|   first|    last|              street|     city|state|  zip|    lat|     long|city_pop|                 job|       dob|           trans_num|         merch_lat| merch_long|is_fraud|merch_zipcode|merch_last_update_time|      merch_eff_time|   cc_bic|     category|gender|\n",
      "+----------+---------------------+----------------+--------------------+-----+--------+--------+--------------------+---------+-----+-----+-------+---------+--------+--------------------+----------+--------------------+------------------+-----------+--------+-------------+----------------------+--------------------+---------+-------------+------+\n",
      "|    376522| 2019-06-23 00:04:...| 213180742685905|fraud_Schaefer, M...|65.19|   Kayla|  Sutton|     010 Weaver Land| Carlotta|   CA|95528| 40.507|-123.9743|    1139|Therapist, occupa...|1951-01-15|e0eafc89691e535d7...|         40.145324|-123.342233|       0|        95595|  1970-01-16 19:50:...|2012-06-23 08:04:...|undefined|gas_transport|     F|\n",
      "|    326900| 2019-06-05 00:02:...|4642255475285942|   fraud_Huels-Nolan|51.36| Sabrina| Johnson|320 Nicholson Orc...| Thompson|   UT|84540|38.9999| -109.615|      46|  Surveyor, minerals|1987-04-23|3a512dbbfdbbfa122...|38.536933000000005|-108.856348|       0|    undefined|  1970-01-16 19:24:...|2012-06-05 08:02:...|undefined|gas_transport|     F|\n",
      "|    376535| 2019-06-23 00:12:...|  30518196150127|fraud_Tillman, Di...|44.23|   Karen|Sullivan|    6313 Scott Trace|Rossville|   IL|60963|40.3625| -87.6692|    1807|       Buyer, retail|1975-06-02|2dc415b13e879a8ab...|         39.441063| -88.335239|       0|        61938|  1970-01-16 19:50:...|2012-06-23 08:12:...|undefined|gas_transport|     F|\n",
      "|    326911| 2019-06-05 00:16:...|2297447006766555|fraud_Bartoletti-...|39.11|   Laura|  Walker|     611 Michael Rue|    Cisco|   IL|61830|39.9972| -88.6962|     478| Landscape architect|1960-01-13|ceee1b3feff26a657...|         40.426116| -89.396721|       0|        61747|  1970-01-16 19:24:...|2012-06-05 08:16:...|undefined|gas_transport|     F|\n",
      "|    376588| 2019-06-23 00:35:...|    630424987505|fraud_Kutch, Herm...|44.82|Jennifer|   Black|2870 Bean Terrace...|   Thomas|   WV|26292|39.1505|  -79.503|     836|Forensic psycholo...|1981-08-29|bd3230fa38ef110ea...|         38.755022| -80.019032|       0|        26280|  1970-01-16 19:50:...|2012-06-23 08:35:...|undefined|gas_transport|     F|\n",
      "+----------+---------------------+----------------+--------------------+-----+--------+--------+--------------------+---------+-----+-----+-------+---------+--------+--------------------+----------+--------------------+------------------+-----------+--------+-------------+----------------------+--------------------+---------+-------------+------+\n",
      "only showing top 5 rows\n",
      "\n"
     ]
    }
   ],
   "source": [
    "df.show(5)"
   ]
  },
  {
   "cell_type": "code",
   "execution_count": 5,
   "id": "27eeecd9",
   "metadata": {},
   "outputs": [],
   "source": [
    "encrypted_data = df.select(\"*\")"
   ]
  },
  {
   "cell_type": "code",
   "execution_count": 6,
   "id": "29069058",
   "metadata": {},
   "outputs": [],
   "source": [
    "# definition of pii data: https://www.investopedia.com/terms/p/personally-identifiable-information-pii.asp#:~:text=What%20Is%20Personally%20Identifiable%20Information,to%20successfully%20recognize%20an%20individual.\n",
    "# PII divided into sensitive and non sensitive\n",
    "# will not encrypt non sensitive data (Gender / State / City) and will used for further analysis\n",
    "\n",
    "# before encrypting, will create a column age by subtracting birth year from current year so we can analyze age distribution and encrypt the date of birth"
   ]
  },
  {
   "cell_type": "code",
   "execution_count": 7,
   "id": "09ad157f",
   "metadata": {},
   "outputs": [],
   "source": [
    "# Create an 32 byte AES key \n",
    "key_path = 'decryption.key'\n",
    "\n",
    "if os.path.exists(key_path):\n",
    "    with open(key_path, \"rb\") as f:\n",
    "        key = f.read()\n",
    "else:\n",
    "    key = os.urandom(32)\n",
    "    with open(key_path, \"wb\") as f:\n",
    "        f.write(key)"
   ]
  },
  {
   "cell_type": "code",
   "execution_count": 8,
   "id": "b7cea10c",
   "metadata": {},
   "outputs": [],
   "source": [
    "encrypted_data = encrypted_data.withColumn(\"age\", year(current_date()) - year(col(\"dob\")))"
   ]
  },
  {
   "cell_type": "code",
   "execution_count": 9,
   "id": "dd5af84e",
   "metadata": {},
   "outputs": [],
   "source": [
    "list_of_columns_to_encrypt = [\n",
    "    \"cc_num\",\n",
    "    \"first\",\n",
    "    \"last\",\n",
    "    \"street\",\n",
    "    \"dob\"\n",
    "]"
   ]
  },
  {
   "cell_type": "code",
   "execution_count": 10,
   "id": "b2b3c746",
   "metadata": {},
   "outputs": [],
   "source": [
    "for columns in list_of_columns_to_encrypt:\n",
    "    encrypted_data = encrypted_data.withColumn(columns, base64(aes_encrypt(col(columns).cast(\"binary\"), lit(key))))"
   ]
  },
  {
   "cell_type": "code",
   "execution_count": 11,
   "id": "42f8ef96",
   "metadata": {},
   "outputs": [
    {
     "name": "stdout",
     "output_type": "stream",
     "text": [
      "+----------+-----------------------+------------------------------------------------------------+------------------------------------+-----+------------------------------------------------+------------------------------------------------+------------------------------------------------------------------------+---------+-----+-----+-------+---------+--------+-----------------------+----------------------------------------------------+--------------------------------+------------------+-----------+--------+-------------+-----------------------+-----------------------+---------+-------------+------+---+\n",
      "|Unnamed: 0|trans_date_trans_time  |cc_num                                                      |merchant                            |amt  |first                                           |last                                            |street                                                                  |city     |state|zip  |lat    |long     |city_pop|job                    |dob                                                 |trans_num                       |merch_lat         |merch_long |is_fraud|merch_zipcode|merch_last_update_time |merch_eff_time         |cc_bic   |category     |gender|age|\n",
      "+----------+-----------------------+------------------------------------------------------------+------------------------------------+-----+------------------------------------------------+------------------------------------------------+------------------------------------------------------------------------+---------+-----+-----+-------+---------+--------+-----------------------+----------------------------------------------------+--------------------------------+------------------+-----------+--------+-------------+-----------------------+-----------------------+---------+-------------+------+---+\n",
      "|376522    |2019-06-23 00:04:55.000|QOUN06Qd6e0Gqab3n3m/4juyEz+cJty5rjMRHhg9nqSYH/Alqj00US6vsw==|fraud_Schaefer, McGlynn and Bosco   |65.19|7Z/R3ZNZe6ZA41EeD1dL7TywzdT3htNT07qkVbCux2s9    |7OPF+83dCHToKw5msoLhHpDmUBfk8lB/WwfSgqEg7YWPBQ==|NrjBBlwLvYID8eMXiU6K2FLdmKMOrEKPtdFg7OeoBnlbN07hswyvna4I7g==            |Carlotta |CA   |95528|40.507 |-123.9743|1139    |Therapist, occupational|9egakttGDItb+bBU4e4+EqYIRCdtzCkPiyp9ZL9rsS+Vjv92Xb0=|e0eafc89691e535d7585efa72af949ac|40.145324         |-123.342233|0       |95595        |1970-01-16 19:50:09.000|2012-06-23 08:04:55.000|undefined|gas_transport|F     |74 |\n",
      "|326900    |2019-06-05 00:02:14.000|s6Q4asrG4eMI7bF933Cv2gWM2DGW3lr22O+si4J1wr44hju02T9XXW6X4DE=|fraud_Huels-Nolan                   |51.36|Eylan+T0pQJjKgYral9+Y15rWDgf6Id6of+xUPJOkABS2L0=|CkyrN8ArJIQvSpC7Rc/RWlhsVLUPNZGQugiDnZPlVC3+aWE=|LTEKbnho/UrWkC+stwMvWC9I4tbDpuDUyOJ7fx1tYHZdW3Pb9UV+bNLjKJw+NLZSdw==    |Thompson |UT   |84540|38.9999|-109.615 |46      |Surveyor, minerals     |L3+Fmol9Cn04wo4+rhRlqe0wqZQjSUAh6VxJiM2eyLPyyPw+YnA=|3a512dbbfdbbfa12216b2f26e3c0f1ba|38.536933000000005|-108.856348|0       |undefined    |1970-01-16 19:24:14.000|2012-06-05 08:02:14.000|undefined|gas_transport|F     |38 |\n",
      "|376535    |2019-06-23 00:12:52.000|bj9fyow/a9A3cnp+G0LA/T+7Aax2A3l+dS3FWTyEzpAYlrb8ZLNUiEwg    |fraud_Tillman, Dickinson and Labadie|44.23|DYH2yRGU7N/sESOX92qbSi11O9l2wdJD4anK7FnmgGbR    |boG8z9nLDKy/W6hMgGFx2A2FIYvtvJMGcWmGKVSukRO3eYk+|eBwSx7TjkR2JmPm8YLB5eGYpiIg95RDj8W2YPjZs3LxvxpEwHWwHr2eNkk4=            |Rossville|IL   |60963|40.3625|-87.6692 |1807    |Buyer, retail          |Pz2viPjZx3sH2z8jjSCPgWtiVYy1KEaMGm79JBuQV0b0ZnSsNWk=|2dc415b13e879a8ab1ea9aaeb2f92528|39.441063         |-88.335239 |0       |61938        |1970-01-16 19:50:10.000|2012-06-23 08:12:52.000|undefined|gas_transport|F     |50 |\n",
      "|326911    |2019-06-05 00:16:14.000|dbrCFuj2+zpz+HmYf4jVnCar3C8Pu+svcgt6wJrqU2h093vFEvEIJZ/SsrI=|fraud_Bartoletti-Wunsch             |39.11|adYGMDThzfHxyWX53+EoYPKcsyxab/aEIOaovblbiwzs    |frfmUKezYiebvmMUZ2GkM0IS3IEpjHMLgBM929yxSmEKlQ==|etTw6RPKexiYlIfX04yy3ncsMN4iM96g9okH4l+Qthq9XOEYAxeFM4KXow==            |Cisco    |IL   |61830|39.9972|-88.6962 |478     |Landscape architect    |kAPMKK4z88JNWYeA6J5yG37BAR8a/jGMUxqW5xj+oYJLt8MkL64=|ceee1b3feff26a657ba53b6c7fac8e90|40.426116         |-89.396721 |0       |61747        |1970-01-16 19:24:15.000|2012-06-05 08:16:14.000|undefined|gas_transport|F     |65 |\n",
      "|376588    |2019-06-23 00:35:59.000|qCuUKdj3HXmVkiwn1MS78JycKgRfEIVPr7+bU/bOUdnOl2J2KH2o8Q==    |fraud_Kutch, Hermiston and Farrell  |44.82|UINfwI64iKmG/xFStRc9iTuKxF+ZwGzkWBYEZmY1H8e68LMt|VVsUZgon0LbTI3Ff/yQf4+3JGm8Drz+8MaZc5lFp9aIK    |wMkgAL4GEaO3JAhlXWABj1m5uvEjTlj/YWClYoAaWcE1rCNA3rf/4jdqzumUSdyChXSxtHkE|Thomas   |WV   |26292|39.1505|-79.503  |836     |Forensic psychologist  |hYjBYCE9RZL+WH/cyUnYab2Zo4+oLiUdpj2GrRIautdwrL9HXbQ=|bd3230fa38ef110ea2b78ae309a75104|38.755022         |-80.019032 |0       |26280        |1970-01-16 19:50:11.000|2012-06-23 08:35:59.000|undefined|gas_transport|F     |44 |\n",
      "+----------+-----------------------+------------------------------------------------------------+------------------------------------+-----+------------------------------------------------+------------------------------------------------+------------------------------------------------------------------------+---------+-----+-----+-------+---------+--------+-----------------------+----------------------------------------------------+--------------------------------+------------------+-----------+--------+-------------+-----------------------+-----------------------+---------+-------------+------+---+\n",
      "only showing top 5 rows\n",
      "\n"
     ]
    }
   ],
   "source": [
    "encrypted_data.show(5, truncate=False)"
   ]
  },
  {
   "cell_type": "code",
   "execution_count": 12,
   "id": "07e0c1ec",
   "metadata": {},
   "outputs": [
    {
     "name": "stdout",
     "output_type": "stream",
     "text": [
      "+----------+---------------------+----------------+--------------------+-----+--------------------+--------------------+--------------------+---------+-----+-----+-------+---------+--------+--------------------+--------------------+--------------------+------------------+-----------+--------+-------------+----------------------+--------------------+---------+-------------+------+---+\n",
      "|Unnamed: 0|trans_date_trans_time|          cc_num|            merchant|  amt|               first|                last|              street|     city|state|  zip|    lat|     long|city_pop|                 job|                 dob|           trans_num|         merch_lat| merch_long|is_fraud|merch_zipcode|merch_last_update_time|      merch_eff_time|   cc_bic|     category|gender|age|\n",
      "+----------+---------------------+----------------+--------------------+-----+--------------------+--------------------+--------------------+---------+-----+-----+-------+---------+--------+--------------------+--------------------+--------------------+------------------+-----------+--------+-------------+----------------------+--------------------+---------+-------------+------+---+\n",
      "|    376522| 2019-06-23 00:04:...| 213180742685905|fraud_Schaefer, M...|65.19|8shYXmQc/XKqsNPdp...|WRFlOCQL6IsqgpVQV...|zJeaa1lNj+gRVlOAz...| Carlotta|   CA|95528| 40.507|-123.9743|    1139|Therapist, occupa...|tcpWEcQyKedPpm69h...|e0eafc89691e535d7...|         40.145324|-123.342233|       0|        95595|  1970-01-16 19:50:...|2012-06-23 08:04:...|undefined|gas_transport|     F| 74|\n",
      "|    326900| 2019-06-05 00:02:...|4642255475285942|   fraud_Huels-Nolan|51.36|79mnbDYrDXoVWlgGG...|BYzpnSUXuSI7Zq4LD...|NBSzF66OaCFnIGwjl...| Thompson|   UT|84540|38.9999| -109.615|      46|  Surveyor, minerals|EwsrW80y6JxiwE2l6...|3a512dbbfdbbfa122...|38.536933000000005|-108.856348|       0|    undefined|  1970-01-16 19:24:...|2012-06-05 08:02:...|undefined|gas_transport|     F| 38|\n",
      "|    376535| 2019-06-23 00:12:...|  30518196150127|fraud_Tillman, Di...|44.23|wNg7fOUIAhvY5sHzq...|gE9uP63Lf9wrjxSq6...|ZcrQz5FcRWJ8I/0GR...|Rossville|   IL|60963|40.3625| -87.6692|    1807|       Buyer, retail|1dOMYjKXDODTE7C4W...|2dc415b13e879a8ab...|         39.441063| -88.335239|       0|        61938|  1970-01-16 19:50:...|2012-06-23 08:12:...|undefined|gas_transport|     F| 50|\n",
      "|    326911| 2019-06-05 00:16:...|2297447006766555|fraud_Bartoletti-...|39.11|mziMrdLx+Ni+LBK51...|Zl63/k8OeyPg79XLe...|y4+NXhytcxNRYxdWf...|    Cisco|   IL|61830|39.9972| -88.6962|     478| Landscape architect|K+/NZWHoX0Rsld1IP...|ceee1b3feff26a657...|         40.426116| -89.396721|       0|        61747|  1970-01-16 19:24:...|2012-06-05 08:16:...|undefined|gas_transport|     F| 65|\n",
      "|    376588| 2019-06-23 00:35:...|    630424987505|fraud_Kutch, Herm...|44.82|2hVwE2qGWBtxFbs+z...|VFeyN3jq3b+Vsiffo...|R6TBisSLvJtAGAuP6...|   Thomas|   WV|26292|39.1505|  -79.503|     836|Forensic psycholo...|OuIQDF1cFtDXnWLiB...|bd3230fa38ef110ea...|         38.755022| -80.019032|       0|        26280|  1970-01-16 19:50:...|2012-06-23 08:35:...|undefined|gas_transport|     F| 44|\n",
      "+----------+---------------------+----------------+--------------------+-----+--------------------+--------------------+--------------------+---------+-----+-----+-------+---------+--------+--------------------+--------------------+--------------------+------------------+-----------+--------+-------------+----------------------+--------------------+---------+-------------+------+---+\n",
      "only showing top 5 rows\n",
      "\n"
     ]
    }
   ],
   "source": [
    "# test decryption data\n",
    "encrypted_data.withColumn(\n",
    "    \"cc_num\",\n",
    "    aes_decrypt(unbase64(col(\"cc_num\")), lit(key)).cast(\"string\")\n",
    ").show(5)"
   ]
  },
  {
   "cell_type": "markdown",
   "id": "ffc21d79",
   "metadata": {},
   "source": [
    "### load the encrypted data into the transformed folder"
   ]
  },
  {
   "cell_type": "code",
   "execution_count": 13,
   "id": "668f19c8",
   "metadata": {},
   "outputs": [
    {
     "name": "stdout",
     "output_type": "stream",
     "text": [
      "+----------+---------------------+--------------------+--------------------+-----+--------------------+--------------------+--------------------+---------+-----+-----+-------+---------+--------+--------------------+--------------------+--------------------+------------------+-----------+--------+-------------+----------------------+--------------------+---------+-------------+------+---+\n",
      "|Unnamed: 0|trans_date_trans_time|              cc_num|            merchant|  amt|               first|                last|              street|     city|state|  zip|    lat|     long|city_pop|                 job|                 dob|           trans_num|         merch_lat| merch_long|is_fraud|merch_zipcode|merch_last_update_time|      merch_eff_time|   cc_bic|     category|gender|age|\n",
      "+----------+---------------------+--------------------+--------------------+-----+--------------------+--------------------+--------------------+---------+-----+-----+-------+---------+--------+--------------------+--------------------+--------------------+------------------+-----------+--------+-------------+----------------------+--------------------+---------+-------------+------+---+\n",
      "|    376522| 2019-06-23 00:04:...|ugZaTMn6omTyD8cH7...|fraud_Schaefer, M...|65.19|CeH7/qDB2cHE+tvMu...|7uFj1igmA1zAli/zr...|cH5r7DjQ8eIVFhpqp...| Carlotta|   CA|95528| 40.507|-123.9743|    1139|Therapist, occupa...|+uCY9Td8r+tdG/uya...|e0eafc89691e535d7...|         40.145324|-123.342233|       0|        95595|  1970-01-16 19:50:...|2012-06-23 08:04:...|undefined|gas_transport|     F| 74|\n",
      "|    326900| 2019-06-05 00:02:...|UnSAUJB92q07ks4V9...|   fraud_Huels-Nolan|51.36|cRi/SrHWCODWG+gjW...|QFU5o3Upj4y/Hcj/3...|7mTCQNZTmIZWreeUl...| Thompson|   UT|84540|38.9999| -109.615|      46|  Surveyor, minerals|loHYFj+OROzQptpJo...|3a512dbbfdbbfa122...|38.536933000000005|-108.856348|       0|    undefined|  1970-01-16 19:24:...|2012-06-05 08:02:...|undefined|gas_transport|     F| 38|\n",
      "|    376535| 2019-06-23 00:12:...|FwrHPJzeGvr4rc2VC...|fraud_Tillman, Di...|44.23|NKNXdDO+nRnCQ/2T2...|l4m1Y0mfxryGpIVqy...|1wie2qCQ9yGY03Vnx...|Rossville|   IL|60963|40.3625| -87.6692|    1807|       Buyer, retail|yB5zC0VQJQEUcikgm...|2dc415b13e879a8ab...|         39.441063| -88.335239|       0|        61938|  1970-01-16 19:50:...|2012-06-23 08:12:...|undefined|gas_transport|     F| 50|\n",
      "|    326911| 2019-06-05 00:16:...|WRXV+0SHRozTFbU9R...|fraud_Bartoletti-...|39.11|eJXvXHkS4Rde3w4YL...|QDkeqZ1TbCDV7/Oha...|lC3kdHKKy4+PiRYmL...|    Cisco|   IL|61830|39.9972| -88.6962|     478| Landscape architect|vlQ0uqJZ9U8/AflHS...|ceee1b3feff26a657...|         40.426116| -89.396721|       0|        61747|  1970-01-16 19:24:...|2012-06-05 08:16:...|undefined|gas_transport|     F| 65|\n",
      "|    376588| 2019-06-23 00:35:...|gJ/76RxBRIYN61H2b...|fraud_Kutch, Herm...|44.82|9NoUBST+nFN+ohvOw...|LcMJQkamQ/pJNRpQP...|cHQkVJRSQjW4LYNzr...|   Thomas|   WV|26292|39.1505|  -79.503|     836|Forensic psycholo...|SuGLmIs9O57SUABtc...|bd3230fa38ef110ea...|         38.755022| -80.019032|       0|        26280|  1970-01-16 19:50:...|2012-06-23 08:35:...|undefined|gas_transport|     F| 44|\n",
      "+----------+---------------------+--------------------+--------------------+-----+--------------------+--------------------+--------------------+---------+-----+-----+-------+---------+--------+--------------------+--------------------+--------------------+------------------+-----------+--------+-------------+----------------------+--------------------+---------+-------------+------+---+\n",
      "only showing top 5 rows\n",
      "\n"
     ]
    }
   ],
   "source": [
    "encrypted_data.show(5)"
   ]
  },
  {
   "cell_type": "code",
   "execution_count": 14,
   "id": "921e1837",
   "metadata": {},
   "outputs": [],
   "source": [
    "encrypted_data.write.partitionBy(\"cc_bic\", \"category\", \"gender\").mode('overwrite').parquet('transformed_cc_credit_card/cc_credit_card_transformed.parquet')"
   ]
  },
  {
   "cell_type": "code",
   "execution_count": 15,
   "id": "028a4b43",
   "metadata": {},
   "outputs": [],
   "source": [
    "spark.stop()"
   ]
  },
  {
   "cell_type": "code",
   "execution_count": null,
   "id": "881a4e1b",
   "metadata": {},
   "outputs": [],
   "source": []
  }
 ],
 "metadata": {
  "kernelspec": {
   "display_name": "venv",
   "language": "python",
   "name": "python3"
  },
  "language_info": {
   "codemirror_mode": {
    "name": "ipython",
    "version": 3
   },
   "file_extension": ".py",
   "mimetype": "text/x-python",
   "name": "python",
   "nbconvert_exporter": "python",
   "pygments_lexer": "ipython3",
   "version": "3.11.8"
  }
 },
 "nbformat": 4,
 "nbformat_minor": 5
}
