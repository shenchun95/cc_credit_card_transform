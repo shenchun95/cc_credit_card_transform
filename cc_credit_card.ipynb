{
 "cells": [
  {
   "cell_type": "code",
   "execution_count": 1,
   "id": "af434988",
   "metadata": {},
   "outputs": [],
   "source": [
    "import pyspark\n",
    "from pyspark.sql import SparkSession\n",
    "from pyspark.sql.functions import col, lower, from_json, sum, when, lit, split, udf, trim, regexp_replace  # common function\n",
    "from pyspark.sql.functions import date_format,from_unixtime, to_timestamp  # date function\n",
    "\n",
    "from pyspark.sql.types import StructType, StructField, StringType, IntegerType, DoubleType\n"
   ]
  },
  {
   "cell_type": "markdown",
   "id": "5782f2c0",
   "metadata": {},
   "source": [
    "### Set up SPARK SESSION"
   ]
  },
  {
   "cell_type": "code",
   "execution_count": null,
   "id": "af25be60",
   "metadata": {},
   "outputs": [],
   "source": [
    "conf = (\n",
    "    pyspark.SparkConf().setAppName('cc_credit_card_transformation')\n",
    "    .set(\"spark.executor.memory\", \"16g\")\n",
    ")"
   ]
  },
  {
   "cell_type": "code",
   "execution_count": null,
   "id": "e5071fb3",
   "metadata": {},
   "outputs": [],
   "source": [
    "spark = SparkSession.builder.config(conf=conf).getOrCreate()\n",
    "df = spark.read.json('raw_cc_credit_card/raw_cc_credit_card')"
   ]
  },
  {
   "cell_type": "markdown",
   "id": "16574b1b",
   "metadata": {},
   "source": [
    "### Exploratory Data Analysis\n",
    "\n",
    "This section performs EDA on the source dataset to understand distributions, detect anomalies, and identify data quality issues."
   ]
  },
  {
   "cell_type": "code",
   "execution_count": 4,
   "id": "dbe4ea87",
   "metadata": {},
   "outputs": [
    {
     "name": "stdout",
     "output_type": "stream",
     "text": [
      "root\n",
      " |-- Unnamed: 0: string (nullable = true)\n",
      " |-- amt: string (nullable = true)\n",
      " |-- category: string (nullable = true)\n",
      " |-- cc_bic: string (nullable = true)\n",
      " |-- cc_num: string (nullable = true)\n",
      " |-- is_fraud: string (nullable = true)\n",
      " |-- merch_eff_time: string (nullable = true)\n",
      " |-- merch_last_update_time: string (nullable = true)\n",
      " |-- merch_lat: string (nullable = true)\n",
      " |-- merch_long: string (nullable = true)\n",
      " |-- merch_zipcode: string (nullable = true)\n",
      " |-- merchant: string (nullable = true)\n",
      " |-- personal_detail: string (nullable = true)\n",
      " |-- trans_date_trans_time: string (nullable = true)\n",
      " |-- trans_num: string (nullable = true)\n",
      "\n"
     ]
    }
   ],
   "source": [
    "df.printSchema()"
   ]
  },
  {
   "cell_type": "code",
   "execution_count": 5,
   "id": "e74fe96f",
   "metadata": {},
   "outputs": [
    {
     "name": "stdout",
     "output_type": "stream",
     "text": [
      "+----------+------+-------------+-----------+----------------+--------+----------------+----------------------+------------------+-----------+-------------+--------------------+--------------------+---------------------+--------------------+\n",
      "|Unnamed: 0|   amt|     category|     cc_bic|          cc_num|is_fraud|  merch_eff_time|merch_last_update_time|         merch_lat| merch_long|merch_zipcode|            merchant|     personal_detail|trans_date_trans_time|           trans_num|\n",
      "+----------+------+-------------+-----------+----------------+--------+----------------+----------------------+------------------+-----------+-------------+--------------------+--------------------+---------------------+--------------------+\n",
      "|         0|  4.97|     misc_net|CITIUS33CHI|2703186189652095|       0|1325376018798532|         1325376018666|         36.011293| -82.048315|        28705|fraud_Rippin, Kub...|{\"person_name\":\"J...|  2019-01-01 00:00:18|0b242abb623afc578...|\n",
      "|         1|107.23|  grocery_pos|   ADMDUS41|    630423337322|       0|1325376044867960|          132537604479|49.159046999999994|-118.186462|         NULL|fraud_Heller, Gut...|{\"person_name\":\"S...|  2019-01-01 00:00:44|1f76529f857473494...|\n",
      "|         2|220.11|entertainment|       Null|  38859492057661|       0|1325376051506840|         1325376051286|         43.150704|-112.154481|        83236|fraud_Lind-Buckridge|{\"person_name\":\"E...|  2019-01-01 00:00:51|a1a22d70485983eac...|\n",
      "|         3|  45.0|gas_transport|DEUTUS33TRF|3534093764340240|       0|1325376076794698|         1325376076365|         47.034331|-112.561071|         NULL|fraud_Kutch, Herm...|{\"person_name\":\"J...|  2019-01-01 00:01:16|6b849c168bdad6f86...|\n",
      "|         4| 41.96|     misc_pos|   APBCUS61| 375534208663984|       0|1325376186746376|          132537618681|         38.674999| -78.632459|        22844| fraud_Keeling-Crist|{\"person_name\":\"T...|  2019-01-01 00:03:06|a41d7549acf907893...|\n",
      "+----------+------+-------------+-----------+----------------+--------+----------------+----------------------+------------------+-----------+-------------+--------------------+--------------------+---------------------+--------------------+\n",
      "only showing top 5 rows\n",
      "\n",
      "ROW COUNT: 1296675\n"
     ]
    }
   ],
   "source": [
    "# check top 5 record of the dataframe\n",
    "# Dataframe contain nested json \n",
    "df.show(5)\n",
    "print(f'ROW COUNT: {df.count()}')"
   ]
  },
  {
   "cell_type": "code",
   "execution_count": 6,
   "id": "01c1808d",
   "metadata": {},
   "outputs": [
    {
     "name": "stdout",
     "output_type": "stream",
     "text": [
      "+-------------------------------------------------------------------------------------------------------------------------------------------------------------------------------------------------------------------------------------------------------------------------------------+\n",
      "|personal_detail                                                                                                                                                                                                                                                                      |\n",
      "+-------------------------------------------------------------------------------------------------------------------------------------------------------------------------------------------------------------------------------------------------------------------------------------+\n",
      "|{\"person_name\":\"Jennifer,Banks,eeeee\",\"gender\":\"F\",\"address\":\"{\\\"street\\\":\\\"561 Perry Cove\\\",\\\"city\\\":\\\"Moravian Falls\\\",\\\"state\\\":\\\"NC\\\",\\\"zip\\\":\\\"28654\\\"}\",\"lat\":\"36.0788\",\"long\":\"-81.1781\",\"city_pop\":\"3495\",\"job\":\"Psychologist, counselling\",\"dob\":\"1988-03-09\"}              |\n",
      "|{\"person_name\":\"Stephanie,Gill,eeeee\",\"gender\":\"F\",\"address\":\"{\\\"street\\\":\\\"43039 Riley Greens Suite 393\\\",\\\"city\\\":\\\"Orient\\\",\\\"state\\\":\\\"WA\\\",\\\"zip\\\":\\\"99160\\\"}\",\"lat\":\"48.8878\",\"long\":\"-118.2105\",\"city_pop\":\"149\",\"job\":\"Special educational needs teacher\",\"dob\":\"1978-06-21\"}|\n",
      "|{\"person_name\":\"Edward@Sanchez\",\"gender\":\"M\",\"address\":\"{\\\"street\\\":\\\"594 White Dale Suite 530\\\",\\\"city\\\":\\\"Malad City\\\",\\\"state\\\":\\\"ID\\\",\\\"zip\\\":\\\"83252\\\"}\",\"lat\":\"42.1808\",\"long\":\"-112.262\",\"city_pop\":\"4154\",\"job\":\"Nature conservation officer\",\"dob\":\"1962-01-19\"}            |\n",
      "|{\"person_name\":\"Jeremy/White, !\",\"gender\":\"M\",\"address\":\"{\\\"street\\\":\\\"9443 Cynthia Court Apt. 038\\\",\\\"city\\\":\\\"Boulder\\\",\\\"state\\\":\\\"MT\\\",\\\"zip\\\":\\\"59632\\\"}\",\"lat\":\"46.2306\",\"long\":\"-112.1138\",\"city_pop\":\"1939\",\"job\":\"Patent attorney\",\"dob\":\"1967-01-12\"}                      |\n",
      "|{\"person_name\":\"Tyler@Garcia\",\"gender\":\"M\",\"address\":\"{\\\"street\\\":\\\"408 Bradley Rest\\\",\\\"city\\\":\\\"Doe Hill\\\",\\\"state\\\":\\\"VA\\\",\\\"zip\\\":\\\"24433\\\"}\",\"lat\":\"38.4207\",\"long\":\"-79.4629\",\"city_pop\":\"99\",\"job\":\"Dance movement psychotherapist\",\"dob\":\"1986-03-28\"}                       |\n",
      "|{\"person_name\":\"Jennifer,Conner,eeeee\",\"gender\":\"F\",\"address\":\"{\\\"street\\\":\\\"4655 David Island\\\",\\\"city\\\":\\\"Dublin\\\",\\\"state\\\":\\\"PA\\\",\\\"zip\\\":\\\"18917\\\"}\",\"lat\":\"40.375\",\"long\":\"-75.2045\",\"city_pop\":\"2158\",\"job\":\"Transport planner\",\"dob\":\"1961-06-19\"}                           |\n",
      "|{\"person_name\":\"Kelsey, , Richards NOOOO\",\"gender\":\"F\",\"address\":\"{\\\"street\\\":\\\"889 Sarah Station Suite 624\\\",\\\"city\\\":\\\"Holcomb\\\",\\\"state\\\":\\\"KS\\\",\\\"zip\\\":\\\"67851\\\"}\",\"lat\":\"37.9931\",\"long\":\"-100.9893\",\"city_pop\":\"2691\",\"job\":\"Arboriculturist\",\"dob\":\"1993-08-16\"}             |\n",
      "|{\"person_name\":\"Steven, Williams\",\"gender\":\"M\",\"address\":\"{\\\"street\\\":\\\"231 Flores Pass Suite 720\\\",\\\"city\\\":\\\"Edinburg\\\",\\\"state\\\":\\\"VA\\\",\\\"zip\\\":\\\"22824\\\"}\",\"lat\":\"38.8432\",\"long\":\"-78.6003\",\"city_pop\":\"6018\",\"job\":\"Designer, multimedia\",\"dob\":\"1947-08-21\"}                  |\n",
      "|{\"person_name\":\"Heather, , Chase NOOOO\",\"gender\":\"F\",\"address\":\"{\\\"street\\\":\\\"6888 Hicks Stream Suite 954\\\",\\\"city\\\":\\\"Manor\\\",\\\"state\\\":\\\"PA\\\",\\\"zip\\\":\\\"15665\\\"}\",\"lat\":\"40.3359\",\"long\":\"-79.6607\",\"city_pop\":\"1472\",\"job\":\"Public affairs consultant\",\"dob\":\"1941-03-07\"}        |\n",
      "|{\"person_name\":\"Melissa@Aguilar\",\"gender\":\"F\",\"address\":\"{\\\"street\\\":\\\"21326 Taylor Squares Suite 708\\\",\\\"city\\\":\\\"Clarksville\\\",\\\"state\\\":\\\"TN\\\",\\\"zip\\\":\\\"37040\\\"}\",\"lat\":\"36.522\",\"long\":\"-87.34899999999999\",\"city_pop\":\"151785\",\"job\":\"Pathologist\",\"dob\":\"1974-03-28\"}         |\n",
      "+-------------------------------------------------------------------------------------------------------------------------------------------------------------------------------------------------------------------------------------------------------------------------------------+\n",
      "only showing top 10 rows\n",
      "\n"
     ]
    }
   ],
   "source": [
    "# select top 10 of nest json\n",
    "df.select('personal_detail').show(10,truncate=False) "
   ]
  },
  {
   "cell_type": "code",
   "execution_count": 7,
   "id": "935ddf38",
   "metadata": {},
   "outputs": [
    {
     "name": "stdout",
     "output_type": "stream",
     "text": [
      "+----------+---+--------+------+------+--------+--------------+----------------------+---------+----------+-------------+--------+---------------+---------------------+---------+\n",
      "|Unnamed: 0|amt|category|cc_bic|cc_num|is_fraud|merch_eff_time|merch_last_update_time|merch_lat|merch_long|merch_zipcode|merchant|personal_detail|trans_date_trans_time|trans_num|\n",
      "+----------+---+--------+------+------+--------+--------------+----------------------+---------+----------+-------------+--------+---------------+---------------------+---------+\n",
      "|         0|  0|       0|     0|     0|       0|             0|                     0|        0|         0|       195973|       0|              0|                    0|        0|\n",
      "+----------+---+--------+------+------+--------+--------------+----------------------+---------+----------+-------------+--------+---------------+---------------------+---------+\n",
      "\n"
     ]
    }
   ],
   "source": [
    "# look for null value for each column\n",
    "# seems like there is null value for merch zipcode\n",
    "\n",
    "df.select([\n",
    "    sum(when(col(c).isNull(), 1).otherwise(0)).alias(c)\n",
    "    for c in df.columns\n",
    "]).show()"
   ]
  },
  {
   "cell_type": "code",
   "execution_count": 8,
   "id": "96eeadb8",
   "metadata": {},
   "outputs": [
    {
     "name": "stdout",
     "output_type": "stream",
     "text": [
      "+----------+---+--------+------+------+--------+--------------+----------------------+---------+----------+-------------+--------+---------------+---------------------+---------+\n",
      "|Unnamed: 0|amt|category|cc_bic|cc_num|is_fraud|merch_eff_time|merch_last_update_time|merch_lat|merch_long|merch_zipcode|merchant|personal_detail|trans_date_trans_time|trans_num|\n",
      "+----------+---+--------+------+------+--------+--------------+----------------------+---------+----------+-------------+--------+---------------+---------------------+---------+\n",
      "|         0|  0|       0|288599|     0|       0|             0|                     0|        0|         0|            0|       0|              0|                    0|        0|\n",
      "+----------+---+--------+------+------+--------+--------------+----------------------+---------+----------+-------------+--------+---------------+---------------------+---------+\n",
      "\n"
     ]
    }
   ],
   "source": [
    "# aware line 3 containing null string value\n",
    "# change the condition to get all value where null \n",
    "# use lower case function to ignore the case\n",
    "\n",
    "df.select([\n",
    "    sum(when((lower(col(c)) == 'null' )| (lower(col(c)) == 'na'), 1).otherwise(0)).alias(c)\n",
    "    for c in df.columns\n",
    "]).show()"
   ]
  },
  {
   "cell_type": "code",
   "execution_count": 9,
   "id": "418814aa",
   "metadata": {},
   "outputs": [
    {
     "name": "stdout",
     "output_type": "stream",
     "text": [
      "+----------+------+-------------+------+-------------------+--------+----------------+----------------------+------------------+------------------+-------------+--------------------+--------------------+---------------------+--------------------+\n",
      "|Unnamed: 0|   amt|     category|cc_bic|             cc_num|is_fraud|  merch_eff_time|merch_last_update_time|         merch_lat|        merch_long|merch_zipcode|            merchant|     personal_detail|trans_date_trans_time|           trans_num|\n",
      "+----------+------+-------------+------+-------------------+--------+----------------+----------------------+------------------+------------------+-------------+--------------------+--------------------+---------------------+--------------------+\n",
      "|         2|220.11|entertainment|  Null|     38859492057661|       0|1325376051506840|         1325376051286|         43.150704|       -112.154481|        83236|fraud_Lind-Buckridge|{\"person_name\":\"E...|  2019-01-01 00:00:51|a1a22d70485983eac...|\n",
      "|         7| 71.65|gas_transport|    NA|   6011360759745864|       0|1325376308837349|         1325376308152|         38.948089|        -78.540296|        22644|fraud_Corwin-Collins|{\"person_name\":\"S...|  2019-01-01 00:05:08|6d294ed2cc447d2c7...|\n",
      "|        25|  2.55|     misc_net|  Null|    343464013864032|       0|1325377087223427|          132537708776|          36.74987|         -78.67787|        23964| fraud_Kunde-Sanford|{\"person_name\":\"J...|  2019-01-01 00:18:07|abe0676c18f34fa30...|\n",
      "|        28| 90.22|  grocery_pos|    NA|4225990116481262579|       0|1325377326969473|         1325377326286|         19.560013|       -156.045889|        96740|     fraud_Kunze Inc|{\"person_name\":\"B...|  2019-01-01 00:22:06|95826e3caa9e0b905...|\n",
      "|        36|207.36|  grocery_pos|  Null|   3598215285024754|       0|1325377582383800|         1325377582231|         40.202538|        -73.859212|        07720|fraud_Heidenreich...|{\"person_name\":\"A...|  2019-01-01 00:26:22|f246ac27c09429ff1...|\n",
      "|        40|  53.6|gas_transport|    NA|       676372984911|       0|1325377849435213|         1325377849661|         40.332519|        -99.062962|        68947|fraud_Christianse...|{\"person_name\":\"V...|  2019-01-01 00:30:49|f1566e9623814dd27...|\n",
      "|        50| 103.0|  grocery_pos|    NA|   4265776278887457|       0|1325378238768102|         1325378238194|         35.034285|         -92.34301|        72032|fraud_Pacocha-O'R...|{\"person_name\":\"C...|  2019-01-01 00:37:18|289789e617eece42a...|\n",
      "|        52| 60.77|gas_transport|    NA|    213193596103206|       0|1325378377752163|         1325378377939|         45.323099|-85.11654300000001|        49720|    fraud_Huels-Hahn|{\"person_name\":\"J...|  2019-01-01 00:39:37|211c26efcb0ed5e87...|\n",
      "|        57| 58.26|  grocery_pos|  Null|   2356276337669917|       0|1325378458320757|         1325378458845|         39.240962|-76.71273199999999|        21227|fraud_Goldner, Ko...|{\"person_name\":\"B...|  2019-01-01 00:40:58|d94f89d7360cd6bad...|\n",
      "|        65|  2.76|     misc_net|  Null|   3536918668124647|       0|1325378778265884|         1325378778425|37.548452000000005|       -121.536454|        95377|fraud_Ferry, Lync...|{\"person_name\":\"M...|  2019-01-01 00:46:18|70ca7fe41f09770d7...|\n",
      "|        67|303.47|     misc_net|    NA|   4707867759656333|       0|1325378889406223|          132537888975|36.394203000000005|-82.51428299999999|        37615|fraud_Huel-Langworth|{\"person_name\":\"S...|  2019-01-01 00:48:09|cdb332a151bdd568d...|\n",
      "|        76| 94.53| shopping_net|    NA|    378006354724784|       0|1325379437932253|          132537943784|          37.84676|        -79.262334|        24435| fraud_Ankunding LLC|{\"person_name\":\"C...|  2019-01-01 00:57:17|d513918bedeff4330...|\n",
      "|        86| 50.68|  grocery_pos|    NA|   3518758680062249|       0|1325379888137302|         1325379888440|         38.482541|       -108.853856|         NULL|fraud_Vandervort-...|{\"person_name\":\"A...|  2019-01-01 01:04:48|61861370b5c31b9c0...|\n",
      "|        97| 50.74|  grocery_net|    NA|   3518234918950662|       0|1325380451339832|         1325380451245|34.266940999999996|        -96.709668|        73460|fraud_Jaskolski-D...|{\"person_name\":\"B...|  2019-01-01 01:14:11|8ba96beff66354e33...|\n",
      "|       110|  1.47|     misc_net|    NA|    348789608637806|       0|1325380997656687|         1325380997114|41.144859999999994|         -99.38762|        68855|   fraud_Kerluke Inc|{\"person_name\":\"M...|  2019-01-01 01:23:17|6569a85a160476c67...|\n",
      "|       116|  7.06|entertainment|    NA|   3592325941359225|       0|1325381302595183|          132538130287|         37.426207|        -76.502881|        23061|    fraud_Grimes LLC|{\"person_name\":\"A...|  2019-01-01 01:28:22|d27fd7a3300953b0c...|\n",
      "|       120|  38.7|  grocery_net|    NA|      4642894980163|       0|1325381502854715|         1325381502198|         39.880088|        -94.193907|        64497|fraud_Wuckert-Walter|{\"person_name\":\"E...|  2019-01-01 01:31:42|83afa07b375903bed...|\n",
      "|       122|  3.66|     misc_net|  Null|     30270432095985|       0|1325381548830782|         1325381548746|           40.7433|        -90.088705|        61572|fraud_Herman, Tre...|{\"person_name\":\"L...|  2019-01-01 01:32:28|895bfdf48e8c52d12...|\n",
      "|       124|134.66|  grocery_pos|    NA|   3567879740649740|       0|1325381557208538|         1325381557737|         43.994486|-75.60383900000001|        13619|  fraud_Rau and Sons|{\"person_name\":\"T...|  2019-01-01 01:32:37|19853c021cb7ef4ff...|\n",
      "|       128| 83.81|  grocery_pos|    NA|   6011104316292105|       0|1325381665501403|         1325381665208|36.822396000000005|        -78.452392|        23924|  fraud_Hudson-Ratke|{\"person_name\":\"V...|  2019-01-01 01:34:25|4e00575ea0d37490f...|\n",
      "+----------+------+-------------+------+-------------------+--------+----------------+----------------------+------------------+------------------+-------------+--------------------+--------------------+---------------------+--------------------+\n",
      "only showing top 20 rows\n",
      "\n"
     ]
    }
   ],
   "source": [
    "df.where((lower(col('cc_bic')) == 'null' )| (lower(col('cc_bic')) == 'na')).show()"
   ]
  },
  {
   "cell_type": "markdown",
   "id": "dc1f55ac",
   "metadata": {},
   "source": [
    "### Data Transformation and Cleaning\n",
    "\n",
    "This section focuses on transforming raw data into a structured format, handling missing values, correcting data types, and cleaning inconsistencies to ensure data quality and consistency.\n"
   ]
  },
  {
   "cell_type": "code",
   "execution_count": 10,
   "id": "740187d2",
   "metadata": {},
   "outputs": [],
   "source": [
    "transformed_df = df.select('*')"
   ]
  },
  {
   "cell_type": "code",
   "execution_count": 11,
   "id": "f89b3410",
   "metadata": {},
   "outputs": [],
   "source": [
    "# Date transformation\n",
    "# change all to same human readaber format\n",
    "transformed_df = transformed_df.withColumn(\n",
    "    \"trans_date_trans_time\",\n",
    "    date_format(to_timestamp('trans_date_trans_time'), \"yyyy-MM-dd HH:mm:ss.SSS\")\n",
    ")\n",
    "\n",
    "transformed_df = transformed_df.withColumn(\n",
    "    \"merch_last_update_time\",\n",
    "    date_format(from_unixtime(col(\"merch_last_update_time\") / 1000000), \"yyyy-MM-dd HH:mm:ss.SSS\")\n",
    ")\n",
    "\n",
    "transformed_df = transformed_df.withColumn(\n",
    "    \"merch_eff_time\",\n",
    "    date_format(from_unixtime(col(\"merch_eff_time\") / 1000000), \"yyyy-MM-dd HH:mm:ss.SSS\")\n",
    ")"
   ]
  },
  {
   "cell_type": "code",
   "execution_count": 12,
   "id": "0aaec6c1",
   "metadata": {},
   "outputs": [],
   "source": [
    "# using from_json to explode the columns \n",
    "#   -> explode personal_detail \n",
    "#   -> explode personal_detail.address\n",
    "# from_json required schema to explode a json string\n",
    "# documentation : https://spark.apache.org/docs/latest/api/python/reference/pyspark.sql/api/pyspark.sql.functions.from_json.html\n",
    "\n",
    "\n",
    "# create a function to take in schema + column to explode and return a dataframe\n",
    "# expend the column and assign back to column nume, then explode into physical column and drop the original column \n",
    "# column state change: JsonString -> Json -> physical column \n",
    "def explode_json(df, col_name, schema):\n",
    "    return df.withColumn(col_name, from_json(col(col_name), schema)).select(*df.columns,f'{col_name}.*').drop(col_name)"
   ]
  },
  {
   "cell_type": "code",
   "execution_count": 13,
   "id": "94e10c78",
   "metadata": {},
   "outputs": [],
   "source": [
    "# define schema for personal details\n",
    "\n",
    "personal_detail_schema = StructType([\n",
    "    StructField(\"person_name\", StringType()),\n",
    "    StructField(\"gender\", StringType()),\n",
    "    StructField(\"address\", StringType()),\n",
    "    StructField(\"lat\", StringType()),\n",
    "    StructField(\"long\", StringType()),\n",
    "    StructField(\"city_pop\", StringType()),\n",
    "    StructField(\"job\", StringType()),\n",
    "    StructField(\"dob\", StringType()),\n",
    "])\n",
    "\n",
    "address_schema =  StructType([\n",
    "                    StructField(\"street\", StringType()),\n",
    "                    StructField(\"city\", StringType()),\n",
    "                    StructField(\"state\", StringType()),\n",
    "                    StructField(\"zip\", StringType())\n",
    "                ])\n"
   ]
  },
  {
   "cell_type": "code",
   "execution_count": 14,
   "id": "156b4e4d",
   "metadata": {},
   "outputs": [],
   "source": [
    "transformed_df = explode_json(transformed_df,'personal_detail',personal_detail_schema)"
   ]
  },
  {
   "cell_type": "code",
   "execution_count": 15,
   "id": "cdf1c0a8",
   "metadata": {},
   "outputs": [
    {
     "name": "stdout",
     "output_type": "stream",
     "text": [
      "+----------+------+-------------+-----------+----------------+--------+--------------------+----------------------+------------------+-----------+-------------+--------------------+---------------------+--------------------+--------------------+------+--------------------+-------+---------+--------+--------------------+----------+\n",
      "|Unnamed: 0|   amt|     category|     cc_bic|          cc_num|is_fraud|      merch_eff_time|merch_last_update_time|         merch_lat| merch_long|merch_zipcode|            merchant|trans_date_trans_time|           trans_num|         person_name|gender|             address|    lat|     long|city_pop|                 job|       dob|\n",
      "+----------+------+-------------+-----------+----------------+--------+--------------------+----------------------+------------------+-----------+-------------+--------------------+---------------------+--------------------+--------------------+------+--------------------+-------+---------+--------+--------------------+----------+\n",
      "|         0|  4.97|     misc_net|CITIUS33CHI|2703186189652095|       0|2012-01-01 08:00:...|  1970-01-16 15:39:...|         36.011293| -82.048315|        28705|fraud_Rippin, Kub...| 2019-01-01 00:00:...|0b242abb623afc578...|Jennifer,Banks,eeeee|     F|{\"street\":\"561 Pe...|36.0788| -81.1781|    3495|Psychologist, cou...|1988-03-09|\n",
      "|         1|107.23|  grocery_pos|   ADMDUS41|    630423337322|       0|2012-01-01 08:00:...|  1970-01-02 20:18:...|49.159046999999994|-118.186462|         NULL|fraud_Heller, Gut...| 2019-01-01 00:00:...|1f76529f857473494...|Stephanie,Gill,eeeee|     F|{\"street\":\"43039 ...|48.8878|-118.2105|     149|Special education...|1978-06-21|\n",
      "|         2|220.11|entertainment|       Null|  38859492057661|       0|2012-01-01 08:00:...|  1970-01-16 15:39:...|         43.150704|-112.154481|        83236|fraud_Lind-Buckridge| 2019-01-01 00:00:...|a1a22d70485983eac...|      Edward@Sanchez|     M|{\"street\":\"594 Wh...|42.1808| -112.262|    4154|Nature conservati...|1962-01-19|\n",
      "|         3|  45.0|gas_transport|DEUTUS33TRF|3534093764340240|       0|2012-01-01 08:01:...|  1970-01-16 15:39:...|         47.034331|-112.561071|         NULL|fraud_Kutch, Herm...| 2019-01-01 00:01:...|6b849c168bdad6f86...|     Jeremy/White, !|     M|{\"street\":\"9443 C...|46.2306|-112.1138|    1939|     Patent attorney|1967-01-12|\n",
      "|         4| 41.96|     misc_pos|   APBCUS61| 375534208663984|       0|2012-01-01 08:03:...|  1970-01-02 20:18:...|         38.674999| -78.632459|        22844| fraud_Keeling-Crist| 2019-01-01 00:03:...|a41d7549acf907893...|        Tyler@Garcia|     M|{\"street\":\"408 Br...|38.4207| -79.4629|      99|Dance movement ps...|1986-03-28|\n",
      "+----------+------+-------------+-----------+----------------+--------+--------------------+----------------------+------------------+-----------+-------------+--------------------+---------------------+--------------------+--------------------+------+--------------------+-------+---------+--------+--------------------+----------+\n",
      "only showing top 5 rows\n",
      "\n"
     ]
    }
   ],
   "source": [
    "transformed_df.show(5)"
   ]
  },
  {
   "cell_type": "code",
   "execution_count": 16,
   "id": "88925179",
   "metadata": {},
   "outputs": [],
   "source": [
    "transformed_df = explode_json(transformed_df,'address',address_schema)"
   ]
  },
  {
   "cell_type": "code",
   "execution_count": 17,
   "id": "5b35a3a5",
   "metadata": {},
   "outputs": [
    {
     "name": "stdout",
     "output_type": "stream",
     "text": [
      "+----------+------+-------------+-----------+----------------+--------+-----------------------+-----------------------+------------------+-----------+-------------+----------------------------------+-----------------------+--------------------------------+--------------------+------+-------+---------+--------+---------------------------------+----------+----------------------------+--------------+-----+-----+\n",
      "|Unnamed: 0|amt   |category     |cc_bic     |cc_num          |is_fraud|merch_eff_time         |merch_last_update_time |merch_lat         |merch_long |merch_zipcode|merchant                          |trans_date_trans_time  |trans_num                       |person_name         |gender|lat    |long     |city_pop|job                              |dob       |street                      |city          |state|zip  |\n",
      "+----------+------+-------------+-----------+----------------+--------+-----------------------+-----------------------+------------------+-----------+-------------+----------------------------------+-----------------------+--------------------------------+--------------------+------+-------+---------+--------+---------------------------------+----------+----------------------------+--------------+-----+-----+\n",
      "|0         |4.97  |misc_net     |CITIUS33CHI|2703186189652095|0       |2012-01-01 08:00:18.000|1970-01-16 15:39:36.000|36.011293         |-82.048315 |28705        |fraud_Rippin, Kub and Mann        |2019-01-01 00:00:18.000|0b242abb623afc578575680df30655b9|Jennifer,Banks,eeeee|F     |36.0788|-81.1781 |3495    |Psychologist, counselling        |1988-03-09|561 Perry Cove              |Moravian Falls|NC   |28654|\n",
      "|1         |107.23|grocery_pos  |ADMDUS41   |630423337322    |0       |2012-01-01 08:00:44.000|1970-01-02 20:18:57.000|49.159046999999994|-118.186462|NULL         |fraud_Heller, Gutmann and Zieme   |2019-01-01 00:00:44.000|1f76529f8574734946361c461b024d99|Stephanie,Gill,eeeee|F     |48.8878|-118.2105|149     |Special educational needs teacher|1978-06-21|43039 Riley Greens Suite 393|Orient        |WA   |99160|\n",
      "|2         |220.11|entertainment|Null       |38859492057661  |0       |2012-01-01 08:00:51.000|1970-01-16 15:39:36.000|43.150704         |-112.154481|83236        |fraud_Lind-Buckridge              |2019-01-01 00:00:51.000|a1a22d70485983eac12b5b88dad1cf95|Edward@Sanchez      |M     |42.1808|-112.262 |4154    |Nature conservation officer      |1962-01-19|594 White Dale Suite 530    |Malad City    |ID   |83252|\n",
      "|3         |45.0  |gas_transport|DEUTUS33TRF|3534093764340240|0       |2012-01-01 08:01:16.000|1970-01-16 15:39:36.000|47.034331         |-112.561071|NULL         |fraud_Kutch, Hermiston and Farrell|2019-01-01 00:01:16.000|6b849c168bdad6f867558c3793159a81|Jeremy/White, !     |M     |46.2306|-112.1138|1939    |Patent attorney                  |1967-01-12|9443 Cynthia Court Apt. 038 |Boulder       |MT   |59632|\n",
      "|4         |41.96 |misc_pos     |APBCUS61   |375534208663984 |0       |2012-01-01 08:03:06.000|1970-01-02 20:18:57.000|38.674999         |-78.632459 |22844        |fraud_Keeling-Crist               |2019-01-01 00:03:06.000|a41d7549acf90789359a9aa5346dcb46|Tyler@Garcia        |M     |38.4207|-79.4629 |99      |Dance movement psychotherapist   |1986-03-28|408 Bradley Rest            |Doe Hill      |VA   |24433|\n",
      "+----------+------+-------------+-----------+----------------+--------+-----------------------+-----------------------+------------------+-----------+-------------+----------------------------------+-----------------------+--------------------------------+--------------------+------+-------+---------+--------+---------------------------------+----------+----------------------------+--------------+-----+-----+\n",
      "only showing top 5 rows\n",
      "\n"
     ]
    }
   ],
   "source": [
    "transformed_df.show(5, truncate=False)"
   ]
  },
  {
   "cell_type": "code",
   "execution_count": 18,
   "id": "8723471e",
   "metadata": {},
   "outputs": [],
   "source": [
    "#  splitting person_name into first name and last name using regular expression\n",
    "#    -> data contain multiple delimiters\n",
    "#    -> use \\W+ to match any non-word character\n",
    "#    -> \\W+ : https://www.w3schools.com/jsref/jsref_obj_regexp.asp\n",
    "transformed_df = transformed_df.withColumn('first',split(transformed_df['person_name'], '\\W+').getItem(0))\n",
    "transformed_df = transformed_df.withColumn('last',split(transformed_df['person_name'], '\\W+').getItem(1))"
   ]
  },
  {
   "cell_type": "code",
   "execution_count": 19,
   "id": "06e616d2",
   "metadata": {},
   "outputs": [
    {
     "name": "stdout",
     "output_type": "stream",
     "text": [
      "+--------------------+-----------+---------+\n",
      "|         person_name|      first|     last|\n",
      "+--------------------+-----------+---------+\n",
      "|Jennifer,Banks,eeeee|   Jennifer|    Banks|\n",
      "|Stephanie,Gill,eeeee|  Stephanie|     Gill|\n",
      "|      Edward@Sanchez|     Edward|  Sanchez|\n",
      "|     Jeremy/White, !|     Jeremy|    White|\n",
      "|        Tyler@Garcia|      Tyler|   Garcia|\n",
      "|Jennifer,Conner,e...|   Jennifer|   Conner|\n",
      "|Kelsey, , Richard...|     Kelsey| Richards|\n",
      "|    Steven, Williams|     Steven| Williams|\n",
      "|Heather, , Chase ...|    Heather|    Chase|\n",
      "|     Melissa@Aguilar|    Melissa|  Aguilar|\n",
      "|     Eddie|Mendez!!!|      Eddie|   Mendez|\n",
      "|   Theresa@Blackwell|    Theresa|Blackwell|\n",
      "|   Charles|Robles!!!|    Charles|   Robles|\n",
      "|           Jack@Hill|       Jack|     Hill|\n",
      "|Christopher@Casta...|Christopher|Castaneda|\n",
      "|       Ronald@Carson|     Ronald|   Carson|\n",
      "|        Lisa, Mendez|       Lisa|   Mendez|\n",
      "| Nathan,Thomas,eeeee|     Nathan|   Thomas|\n",
      "|         Justin, Gay|     Justin|      Gay|\n",
      "|Kenneth, , Robins...|    Kenneth| Robinson|\n",
      "+--------------------+-----------+---------+\n",
      "only showing top 20 rows\n",
      "\n"
     ]
    }
   ],
   "source": [
    "# check data to ensure data extract correctly\n",
    "transformed_df.select('person_name','first','last').show(20)"
   ]
  },
  {
   "cell_type": "code",
   "execution_count": 20,
   "id": "d3186561",
   "metadata": {},
   "outputs": [
    {
     "name": "stdout",
     "output_type": "stream",
     "text": [
      "+----------+------+-------------+-----------+----------------+--------+--------------------+----------------------+------------------+-----------+-------------+--------------------+---------------------+--------------------+------+-------+---------+--------+--------------------+----------+--------------------+--------------+-----+-----+---------+-------+\n",
      "|Unnamed: 0|   amt|     category|     cc_bic|          cc_num|is_fraud|      merch_eff_time|merch_last_update_time|         merch_lat| merch_long|merch_zipcode|            merchant|trans_date_trans_time|           trans_num|gender|    lat|     long|city_pop|                 job|       dob|              street|          city|state|  zip|    first|   last|\n",
      "+----------+------+-------------+-----------+----------------+--------+--------------------+----------------------+------------------+-----------+-------------+--------------------+---------------------+--------------------+------+-------+---------+--------+--------------------+----------+--------------------+--------------+-----+-----+---------+-------+\n",
      "|         0|  4.97|     misc_net|CITIUS33CHI|2703186189652095|       0|2012-01-01 08:00:...|  1970-01-16 15:39:...|         36.011293| -82.048315|        28705|fraud_Rippin, Kub...| 2019-01-01 00:00:...|0b242abb623afc578...|     F|36.0788| -81.1781|    3495|Psychologist, cou...|1988-03-09|      561 Perry Cove|Moravian Falls|   NC|28654| Jennifer|  Banks|\n",
      "|         1|107.23|  grocery_pos|   ADMDUS41|    630423337322|       0|2012-01-01 08:00:...|  1970-01-02 20:18:...|49.159046999999994|-118.186462|         NULL|fraud_Heller, Gut...| 2019-01-01 00:00:...|1f76529f857473494...|     F|48.8878|-118.2105|     149|Special education...|1978-06-21|43039 Riley Green...|        Orient|   WA|99160|Stephanie|   Gill|\n",
      "|         2|220.11|entertainment|       Null|  38859492057661|       0|2012-01-01 08:00:...|  1970-01-16 15:39:...|         43.150704|-112.154481|        83236|fraud_Lind-Buckridge| 2019-01-01 00:00:...|a1a22d70485983eac...|     M|42.1808| -112.262|    4154|Nature conservati...|1962-01-19|594 White Dale Su...|    Malad City|   ID|83252|   Edward|Sanchez|\n",
      "|         3|  45.0|gas_transport|DEUTUS33TRF|3534093764340240|       0|2012-01-01 08:01:...|  1970-01-16 15:39:...|         47.034331|-112.561071|         NULL|fraud_Kutch, Herm...| 2019-01-01 00:01:...|6b849c168bdad6f86...|     M|46.2306|-112.1138|    1939|     Patent attorney|1967-01-12|9443 Cynthia Cour...|       Boulder|   MT|59632|   Jeremy|  White|\n",
      "|         4| 41.96|     misc_pos|   APBCUS61| 375534208663984|       0|2012-01-01 08:03:...|  1970-01-02 20:18:...|         38.674999| -78.632459|        22844| fraud_Keeling-Crist| 2019-01-01 00:03:...|a41d7549acf907893...|     M|38.4207| -79.4629|      99|Dance movement ps...|1986-03-28|    408 Bradley Rest|      Doe Hill|   VA|24433|    Tyler| Garcia|\n",
      "+----------+------+-------------+-----------+----------------+--------+--------------------+----------------------+------------------+-----------+-------------+--------------------+---------------------+--------------------+------+-------+---------+--------+--------------------+----------+--------------------+--------------+-----+-----+---------+-------+\n",
      "only showing top 5 rows\n",
      "\n"
     ]
    }
   ],
   "source": [
    "# drop person_name column\n",
    "transformed_df = transformed_df.drop('person_name')\n",
    "transformed_df.show(5)"
   ]
  },
  {
   "cell_type": "markdown",
   "id": "91875231",
   "metadata": {},
   "source": [
    "#### TRIM text column with space"
   ]
  },
  {
   "cell_type": "code",
   "execution_count": 21,
   "id": "6e3e4c18",
   "metadata": {},
   "outputs": [],
   "source": [
    "trim_column = ['merchant','job','street','city','state']\n",
    "for column in trim_column:\n",
    "    df = transformed_df.withColumn(column, trim(column))"
   ]
  },
  {
   "cell_type": "code",
   "execution_count": 22,
   "id": "dce41cb4",
   "metadata": {},
   "outputs": [],
   "source": [
    "# check data\n",
    "# transformed_df.withColumn('merchant', trim('merchant')).show(5, truncate=False)"
   ]
  },
  {
   "cell_type": "markdown",
   "id": "3797a7e7",
   "metadata": {},
   "source": [
    "#### Unable to find any relation for cc_bic & merch_zipcode to map\n",
    "##### However decide not to drop the NA/Empty/Null row due to each transaction may impact on the overall analysis</br>Fill all unable to define as 'Undefined'"
   ]
  },
  {
   "cell_type": "code",
   "execution_count": 23,
   "id": "552799bd",
   "metadata": {},
   "outputs": [
    {
     "name": "stdout",
     "output_type": "stream",
     "text": [
      "+-----------+\n",
      "|     cc_bic|\n",
      "+-----------+\n",
      "|   ADMDUS41|\n",
      "|   ACEEUS31|\n",
      "|DEUTUS33TRF|\n",
      "|         NA|\n",
      "|CITIUS33CHI|\n",
      "|   AIABUS31|\n",
      "|           |\n",
      "|       Null|\n",
      "|   APBCUS61|\n",
      "+-----------+\n",
      "\n"
     ]
    }
   ],
   "source": [
    "transformed_df.select('cc_bic').distinct().show()"
   ]
  },
  {
   "cell_type": "code",
   "execution_count": 24,
   "id": "8468e910",
   "metadata": {},
   "outputs": [
    {
     "name": "stdout",
     "output_type": "stream",
     "text": [
      "+----------+------+-------------+-----------+----------------+--------+-----------------------+-----------------------+------------------+-----------+-------------+----------------------------------+-----------------------+--------------------------------+------+-------+---------+--------+---------------------------------+----------+----------------------------+--------------+-----+-----+---------+-------+\n",
      "|Unnamed: 0|amt   |category     |cc_bic     |cc_num          |is_fraud|merch_eff_time         |merch_last_update_time |merch_lat         |merch_long |merch_zipcode|merchant                          |trans_date_trans_time  |trans_num                       |gender|lat    |long     |city_pop|job                              |dob       |street                      |city          |state|zip  |first    |last   |\n",
      "+----------+------+-------------+-----------+----------------+--------+-----------------------+-----------------------+------------------+-----------+-------------+----------------------------------+-----------------------+--------------------------------+------+-------+---------+--------+---------------------------------+----------+----------------------------+--------------+-----+-----+---------+-------+\n",
      "|0         |4.97  |misc_net     |CITIUS33CHI|2703186189652095|0       |2012-01-01 08:00:18.000|1970-01-16 15:39:36.000|36.011293         |-82.048315 |28705        |fraud_Rippin, Kub and Mann        |2019-01-01 00:00:18.000|0b242abb623afc578575680df30655b9|F     |36.0788|-81.1781 |3495    |Psychologist, counselling        |1988-03-09|561 Perry Cove              |Moravian Falls|NC   |28654|Jennifer |Banks  |\n",
      "|1         |107.23|grocery_pos  |ADMDUS41   |630423337322    |0       |2012-01-01 08:00:44.000|1970-01-02 20:18:57.000|49.159046999999994|-118.186462|NULL         |fraud_Heller, Gutmann and Zieme   |2019-01-01 00:00:44.000|1f76529f8574734946361c461b024d99|F     |48.8878|-118.2105|149     |Special educational needs teacher|1978-06-21|43039 Riley Greens Suite 393|Orient        |WA   |99160|Stephanie|Gill   |\n",
      "|2         |220.11|entertainment|Null       |38859492057661  |0       |2012-01-01 08:00:51.000|1970-01-16 15:39:36.000|43.150704         |-112.154481|83236        |fraud_Lind-Buckridge              |2019-01-01 00:00:51.000|a1a22d70485983eac12b5b88dad1cf95|M     |42.1808|-112.262 |4154    |Nature conservation officer      |1962-01-19|594 White Dale Suite 530    |Malad City    |ID   |83252|Edward   |Sanchez|\n",
      "|3         |45.0  |gas_transport|DEUTUS33TRF|3534093764340240|0       |2012-01-01 08:01:16.000|1970-01-16 15:39:36.000|47.034331         |-112.561071|NULL         |fraud_Kutch, Hermiston and Farrell|2019-01-01 00:01:16.000|6b849c168bdad6f867558c3793159a81|M     |46.2306|-112.1138|1939    |Patent attorney                  |1967-01-12|9443 Cynthia Court Apt. 038 |Boulder       |MT   |59632|Jeremy   |White  |\n",
      "|4         |41.96 |misc_pos     |APBCUS61   |375534208663984 |0       |2012-01-01 08:03:06.000|1970-01-02 20:18:57.000|38.674999         |-78.632459 |22844        |fraud_Keeling-Crist               |2019-01-01 00:03:06.000|a41d7549acf90789359a9aa5346dcb46|M     |38.4207|-79.4629 |99      |Dance movement psychotherapist   |1986-03-28|408 Bradley Rest            |Doe Hill      |VA   |24433|Tyler    |Garcia |\n",
      "+----------+------+-------------+-----------+----------------+--------+-----------------------+-----------------------+------------------+-----------+-------------+----------------------------------+-----------------------+--------------------------------+------+-------+---------+--------+---------------------------------+----------+----------------------------+--------------+-----+-----+---------+-------+\n",
      "only showing top 5 rows\n",
      "\n"
     ]
    }
   ],
   "source": [
    "transformed_df.show(5, truncate=False)\n"
   ]
  },
  {
   "cell_type": "code",
   "execution_count": 25,
   "id": "00a9a1ff",
   "metadata": {},
   "outputs": [],
   "source": [
    "transformed_df = transformed_df.withColumn(\"cc_bic\",when(col(\"cc_bic\").isin(\"Null\", \"NA\", \"\"), lit(None)).otherwise(col(\"cc_bic\")))"
   ]
  },
  {
   "cell_type": "code",
   "execution_count": 26,
   "id": "2724c81d",
   "metadata": {},
   "outputs": [
    {
     "name": "stdout",
     "output_type": "stream",
     "text": [
      "+----------+---+--------+------+------+--------+--------------+----------------------+---------+----------+-------------+--------+---------------------+---------+------+---+----+--------+---+---+------+----+-----+---+-----+----+\n",
      "|Unnamed: 0|amt|category|cc_bic|cc_num|is_fraud|merch_eff_time|merch_last_update_time|merch_lat|merch_long|merch_zipcode|merchant|trans_date_trans_time|trans_num|gender|lat|long|city_pop|job|dob|street|city|state|zip|first|last|\n",
      "+----------+---+--------+------+------+--------+--------------+----------------------+---------+----------+-------------+--------+---------------------+---------+------+---+----+--------+---+---+------+----+-----+---+-----+----+\n",
      "|         0|  0|       0|432980|     0|       0|             0|                     0|        0|         0|       195973|       0|                    0|        0|     0|  0|   0|       0|  0|  0|     0|   0|    0|  0|    0|   0|\n",
      "+----------+---+--------+------+------+--------+--------------+----------------------+---------+----------+-------------+--------+---------------------+---------+------+---+----+--------+---+---+------+----+-----+---+-----+----+\n",
      "\n"
     ]
    }
   ],
   "source": [
    "# check null count\n",
    "transformed_df.select([\n",
    "    sum(when(col(c).isNull(), 1).otherwise(0)).alias(c)\n",
    "    for c in transformed_df.columns\n",
    "]).show()"
   ]
  },
  {
   "cell_type": "code",
   "execution_count": 27,
   "id": "eca85084",
   "metadata": {},
   "outputs": [],
   "source": [
    "transformed_df = transformed_df.fillna('undefined')"
   ]
  },
  {
   "cell_type": "code",
   "execution_count": 28,
   "id": "cb6bad6f",
   "metadata": {},
   "outputs": [
    {
     "name": "stdout",
     "output_type": "stream",
     "text": [
      "+----------+------+-------------+-----------+----------------+--------+--------------------+----------------------+------------------+-----------+-------------+--------------------+---------------------+--------------------+------+-------+---------+--------+--------------------+----------+--------------------+--------------+-----+-----+---------+-------+\n",
      "|Unnamed: 0|   amt|     category|     cc_bic|          cc_num|is_fraud|      merch_eff_time|merch_last_update_time|         merch_lat| merch_long|merch_zipcode|            merchant|trans_date_trans_time|           trans_num|gender|    lat|     long|city_pop|                 job|       dob|              street|          city|state|  zip|    first|   last|\n",
      "+----------+------+-------------+-----------+----------------+--------+--------------------+----------------------+------------------+-----------+-------------+--------------------+---------------------+--------------------+------+-------+---------+--------+--------------------+----------+--------------------+--------------+-----+-----+---------+-------+\n",
      "|         0|  4.97|     misc_net|CITIUS33CHI|2703186189652095|       0|2012-01-01 08:00:...|  1970-01-16 15:39:...|         36.011293| -82.048315|        28705|fraud_Rippin, Kub...| 2019-01-01 00:00:...|0b242abb623afc578...|     F|36.0788| -81.1781|    3495|Psychologist, cou...|1988-03-09|      561 Perry Cove|Moravian Falls|   NC|28654| Jennifer|  Banks|\n",
      "|         1|107.23|  grocery_pos|   ADMDUS41|    630423337322|       0|2012-01-01 08:00:...|  1970-01-02 20:18:...|49.159046999999994|-118.186462|    undefined|fraud_Heller, Gut...| 2019-01-01 00:00:...|1f76529f857473494...|     F|48.8878|-118.2105|     149|Special education...|1978-06-21|43039 Riley Green...|        Orient|   WA|99160|Stephanie|   Gill|\n",
      "|         2|220.11|entertainment|  undefined|  38859492057661|       0|2012-01-01 08:00:...|  1970-01-16 15:39:...|         43.150704|-112.154481|        83236|fraud_Lind-Buckridge| 2019-01-01 00:00:...|a1a22d70485983eac...|     M|42.1808| -112.262|    4154|Nature conservati...|1962-01-19|594 White Dale Su...|    Malad City|   ID|83252|   Edward|Sanchez|\n",
      "|         3|  45.0|gas_transport|DEUTUS33TRF|3534093764340240|       0|2012-01-01 08:01:...|  1970-01-16 15:39:...|         47.034331|-112.561071|    undefined|fraud_Kutch, Herm...| 2019-01-01 00:01:...|6b849c168bdad6f86...|     M|46.2306|-112.1138|    1939|     Patent attorney|1967-01-12|9443 Cynthia Cour...|       Boulder|   MT|59632|   Jeremy|  White|\n",
      "|         4| 41.96|     misc_pos|   APBCUS61| 375534208663984|       0|2012-01-01 08:03:...|  1970-01-02 20:18:...|         38.674999| -78.632459|        22844| fraud_Keeling-Crist| 2019-01-01 00:03:...|a41d7549acf907893...|     M|38.4207| -79.4629|      99|Dance movement ps...|1986-03-28|    408 Bradley Rest|      Doe Hill|   VA|24433|    Tyler| Garcia|\n",
      "+----------+------+-------------+-----------+----------------+--------+--------------------+----------------------+------------------+-----------+-------------+--------------------+---------------------+--------------------+------+-------+---------+--------+--------------------+----------+--------------------+--------------+-----+-----+---------+-------+\n",
      "only showing top 5 rows\n",
      "\n"
     ]
    }
   ],
   "source": [
    "transformed_df.show(5)"
   ]
  },
  {
   "cell_type": "code",
   "execution_count": 29,
   "id": "a020bcda",
   "metadata": {},
   "outputs": [],
   "source": [
    "# change the data type for further analysis\n",
    "\n",
    "transformed_df = transformed_df.withColumn(\"amt\", col(\"amt\").cast(DoubleType())) \\\n",
    "                                .withColumn(\"lat\", col(\"lat\").cast(DoubleType())) \\\n",
    "                                .withColumn(\"long\", col(\"long\").cast(DoubleType())) \\\n",
    "                                .withColumn(\"city_pop\", col(\"city_pop\").cast(IntegerType())) \\\n",
    "                                .withColumn(\"merch_lat\", col(\"merch_lat\").cast(DoubleType())) \\\n",
    "                                .withColumn(\"merch_long\", col(\"merch_long\").cast(DoubleType())) \\\n",
    "                                .withColumn(\"is_fraud\", col(\"is_fraud\").cast(IntegerType())) \\\n",
    "                                .withColumn(\"zip\", col(\"zip\").cast(StringType())) \\\n",
    "                                .withColumn(\"merch_zipcode\", col(\"merch_zipcode\").cast(StringType())) "
   ]
  },
  {
   "cell_type": "code",
   "execution_count": 30,
   "id": "464eb6c1",
   "metadata": {},
   "outputs": [],
   "source": [
    "# select column to load as output\n",
    "transformed_df = transformed_df.select(\n",
    "                        col(\"Unnamed: 0\"), \n",
    "                        col(\"trans_date_trans_time\"),\n",
    "                        col(\"cc_num\"), \n",
    "                        col(\"merchant\"),\n",
    "                        col(\"category\"),\n",
    "                        col(\"amt\"),\n",
    "                        col(\"first\"),\n",
    "                        col(\"last\"),\n",
    "                        col(\"gender\"),\n",
    "                        col(\"street\"),\n",
    "                        col(\"city\"),\n",
    "                        col(\"state\"),\n",
    "                        col(\"zip\"),\n",
    "                        col(\"lat\"),\n",
    "                        col(\"long\"),\n",
    "                        col(\"city_pop\"),\n",
    "                        col(\"job\"),\n",
    "                        col(\"dob\"),\n",
    "                        col(\"trans_num\"),\n",
    "                        col(\"merch_lat\"),\n",
    "                        col(\"merch_long\"),\n",
    "                        col(\"is_fraud\"),\n",
    "                        col(\"merch_zipcode\"),\n",
    "                        col(\"merch_last_update_time\"),\n",
    "                        col(\"merch_eff_time\"),\n",
    "                        col(\"cc_bic\")\n",
    "                )"
   ]
  },
  {
   "cell_type": "code",
   "execution_count": 31,
   "id": "64df9538",
   "metadata": {},
   "outputs": [
    {
     "name": "stdout",
     "output_type": "stream",
     "text": [
      "root\n",
      " |-- Unnamed: 0: string (nullable = false)\n",
      " |-- trans_date_trans_time: string (nullable = false)\n",
      " |-- cc_num: string (nullable = false)\n",
      " |-- merchant: string (nullable = false)\n",
      " |-- category: string (nullable = false)\n",
      " |-- amt: double (nullable = true)\n",
      " |-- first: string (nullable = false)\n",
      " |-- last: string (nullable = false)\n",
      " |-- gender: string (nullable = false)\n",
      " |-- street: string (nullable = false)\n",
      " |-- city: string (nullable = false)\n",
      " |-- state: string (nullable = false)\n",
      " |-- zip: string (nullable = false)\n",
      " |-- lat: double (nullable = true)\n",
      " |-- long: double (nullable = true)\n",
      " |-- city_pop: integer (nullable = true)\n",
      " |-- job: string (nullable = false)\n",
      " |-- dob: string (nullable = false)\n",
      " |-- trans_num: string (nullable = false)\n",
      " |-- merch_lat: double (nullable = true)\n",
      " |-- merch_long: double (nullable = true)\n",
      " |-- is_fraud: integer (nullable = true)\n",
      " |-- merch_zipcode: string (nullable = false)\n",
      " |-- merch_last_update_time: string (nullable = false)\n",
      " |-- merch_eff_time: string (nullable = false)\n",
      " |-- cc_bic: string (nullable = false)\n",
      "\n"
     ]
    }
   ],
   "source": [
    "# check transformed schema\n",
    "transformed_df.printSchema()"
   ]
  },
  {
   "cell_type": "markdown",
   "id": "a9ed0920",
   "metadata": {},
   "source": [
    "#### confirm the number before transformation and after transformation is same"
   ]
  },
  {
   "cell_type": "code",
   "execution_count": 32,
   "id": "90ecb202",
   "metadata": {},
   "outputs": [
    {
     "data": {
      "text/plain": [
       "1296675"
      ]
     },
     "execution_count": 32,
     "metadata": {},
     "output_type": "execute_result"
    }
   ],
   "source": [
    "transformed_df.count()"
   ]
  },
  {
   "cell_type": "code",
   "execution_count": 33,
   "id": "92fd0e5f",
   "metadata": {},
   "outputs": [
    {
     "data": {
      "text/plain": [
       "1296675"
      ]
     },
     "execution_count": 33,
     "metadata": {},
     "output_type": "execute_result"
    }
   ],
   "source": [
    "df.count()"
   ]
  },
  {
   "cell_type": "markdown",
   "id": "54ce0864",
   "metadata": {},
   "source": [
    "#### loaded into currated zone for further transformation/ analysis </br> note: No data partition "
   ]
  },
  {
   "cell_type": "code",
   "execution_count": 35,
   "id": "e9e770ee",
   "metadata": {},
   "outputs": [],
   "source": [
    "transformed_df.write.partitionBy(\"cc_bic\", \"category\", \"gender\").mode('overwrite').parquet('currated_cc_credit_card/cc_credit_card_currated.parquet')"
   ]
  },
  {
   "cell_type": "code",
   "execution_count": 36,
   "id": "c74601ba",
   "metadata": {},
   "outputs": [],
   "source": [
    "spark.stop()"
   ]
  },
  {
   "cell_type": "code",
   "execution_count": null,
   "id": "ea8fef37",
   "metadata": {},
   "outputs": [],
   "source": []
  }
 ],
 "metadata": {
  "kernelspec": {
   "display_name": "venv",
   "language": "python",
   "name": "python3"
  },
  "language_info": {
   "codemirror_mode": {
    "name": "ipython",
    "version": 3
   },
   "file_extension": ".py",
   "mimetype": "text/x-python",
   "name": "python",
   "nbconvert_exporter": "python",
   "pygments_lexer": "ipython3",
   "version": "3.11.8"
  }
 },
 "nbformat": 4,
 "nbformat_minor": 5
}
